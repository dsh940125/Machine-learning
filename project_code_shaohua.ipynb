{
 "cells": [
  {
   "cell_type": "markdown",
   "metadata": {},
   "source": [
    "# Project: Predicting Conversion in E-commerce Data\n",
    "# Name: Shaohua Dong\n",
    "# Unique name: shaohua"
   ]
  },
  {
   "cell_type": "code",
   "execution_count": 120,
   "metadata": {},
   "outputs": [
    {
     "data": {
      "text/html": [
       "<div>\n",
       "<style>\n",
       "    .dataframe thead tr:only-child th {\n",
       "        text-align: right;\n",
       "    }\n",
       "\n",
       "    .dataframe thead th {\n",
       "        text-align: left;\n",
       "    }\n",
       "\n",
       "    .dataframe tbody tr th {\n",
       "        vertical-align: top;\n",
       "    }\n",
       "</style>\n",
       "<table border=\"1\" class=\"dataframe\">\n",
       "  <thead>\n",
       "    <tr style=\"text-align: right;\">\n",
       "      <th></th>\n",
       "      <th>country</th>\n",
       "      <th>age</th>\n",
       "      <th>new_user</th>\n",
       "      <th>source</th>\n",
       "      <th>total_pages_visited</th>\n",
       "      <th>converted</th>\n",
       "    </tr>\n",
       "  </thead>\n",
       "  <tbody>\n",
       "    <tr>\n",
       "      <th>0</th>\n",
       "      <td>UK</td>\n",
       "      <td>25</td>\n",
       "      <td>1</td>\n",
       "      <td>Ads</td>\n",
       "      <td>1</td>\n",
       "      <td>0</td>\n",
       "    </tr>\n",
       "    <tr>\n",
       "      <th>1</th>\n",
       "      <td>US</td>\n",
       "      <td>23</td>\n",
       "      <td>1</td>\n",
       "      <td>Seo</td>\n",
       "      <td>5</td>\n",
       "      <td>0</td>\n",
       "    </tr>\n",
       "    <tr>\n",
       "      <th>2</th>\n",
       "      <td>US</td>\n",
       "      <td>28</td>\n",
       "      <td>1</td>\n",
       "      <td>Seo</td>\n",
       "      <td>4</td>\n",
       "      <td>0</td>\n",
       "    </tr>\n",
       "    <tr>\n",
       "      <th>3</th>\n",
       "      <td>China</td>\n",
       "      <td>39</td>\n",
       "      <td>1</td>\n",
       "      <td>Seo</td>\n",
       "      <td>5</td>\n",
       "      <td>0</td>\n",
       "    </tr>\n",
       "    <tr>\n",
       "      <th>4</th>\n",
       "      <td>US</td>\n",
       "      <td>30</td>\n",
       "      <td>1</td>\n",
       "      <td>Seo</td>\n",
       "      <td>6</td>\n",
       "      <td>0</td>\n",
       "    </tr>\n",
       "  </tbody>\n",
       "</table>\n",
       "</div>"
      ],
      "text/plain": [
       "  country  age  new_user source  total_pages_visited  converted\n",
       "0      UK   25         1    Ads                    1          0\n",
       "1      US   23         1    Seo                    5          0\n",
       "2      US   28         1    Seo                    4          0\n",
       "3   China   39         1    Seo                    5          0\n",
       "4      US   30         1    Seo                    6          0"
      ]
     },
     "execution_count": 120,
     "metadata": {},
     "output_type": "execute_result"
    }
   ],
   "source": [
    "import pandas as pd\n",
    "import numpy as np\n",
    "%matplotlib inline\n",
    "import matplotlib.pyplot as plt\n",
    "import seaborn as sns\n",
    "import scipy.stats as stats\n",
    "from scipy.stats import chi2_contingency\n",
    "\n",
    "conversion=pd.read_csv(\"conversion_data.csv\")\n",
    "conversion.head(5)"
   ]
  },
  {
   "cell_type": "markdown",
   "metadata": {},
   "source": [
    "## Check if there is missing data"
   ]
  },
  {
   "cell_type": "code",
   "execution_count": 3,
   "metadata": {},
   "outputs": [
    {
     "data": {
      "text/plain": [
       "country                0\n",
       "age                    0\n",
       "new_user               0\n",
       "source                 0\n",
       "total_pages_visited    0\n",
       "converted              0\n",
       "dtype: int64"
      ]
     },
     "execution_count": 3,
     "metadata": {},
     "output_type": "execute_result"
    }
   ],
   "source": [
    "conversion.isnull().sum()"
   ]
  },
  {
   "cell_type": "markdown",
   "metadata": {},
   "source": [
    "### There is no missing data in this data set."
   ]
  },
  {
   "cell_type": "markdown",
   "metadata": {},
   "source": [
    "# Question 1. What is the conversion rates for each access method in each country?"
   ]
  },
  {
   "cell_type": "markdown",
   "metadata": {},
   "source": [
    "## (a). Make an aggregate table of conversion rates by access method and by country."
   ]
  },
  {
   "cell_type": "code",
   "execution_count": 4,
   "metadata": {
    "scrolled": true
   },
   "outputs": [
    {
     "data": {
      "text/html": [
       "<div>\n",
       "<style>\n",
       "    .dataframe thead tr:only-child th {\n",
       "        text-align: right;\n",
       "    }\n",
       "\n",
       "    .dataframe thead th {\n",
       "        text-align: left;\n",
       "    }\n",
       "\n",
       "    .dataframe tbody tr th {\n",
       "        vertical-align: top;\n",
       "    }\n",
       "</style>\n",
       "<table border=\"1\" class=\"dataframe\">\n",
       "  <thead>\n",
       "    <tr>\n",
       "      <th></th>\n",
       "      <th colspan=\"3\" halign=\"left\">converted</th>\n",
       "    </tr>\n",
       "    <tr>\n",
       "      <th>source</th>\n",
       "      <th>Ads</th>\n",
       "      <th>Direct</th>\n",
       "      <th>Seo</th>\n",
       "    </tr>\n",
       "    <tr>\n",
       "      <th>country</th>\n",
       "      <th></th>\n",
       "      <th></th>\n",
       "      <th></th>\n",
       "    </tr>\n",
       "  </thead>\n",
       "  <tbody>\n",
       "    <tr>\n",
       "      <th>China</th>\n",
       "      <td>0.001484</td>\n",
       "      <td>0.001374</td>\n",
       "      <td>0.001224</td>\n",
       "    </tr>\n",
       "    <tr>\n",
       "      <th>Germany</th>\n",
       "      <td>0.066755</td>\n",
       "      <td>0.053422</td>\n",
       "      <td>0.064055</td>\n",
       "    </tr>\n",
       "    <tr>\n",
       "      <th>UK</th>\n",
       "      <td>0.055630</td>\n",
       "      <td>0.046267</td>\n",
       "      <td>0.053905</td>\n",
       "    </tr>\n",
       "    <tr>\n",
       "      <th>US</th>\n",
       "      <td>0.040580</td>\n",
       "      <td>0.032909</td>\n",
       "      <td>0.038508</td>\n",
       "    </tr>\n",
       "  </tbody>\n",
       "</table>\n",
       "</div>"
      ],
      "text/plain": [
       "        converted                    \n",
       "source        Ads    Direct       Seo\n",
       "country                              \n",
       "China    0.001484  0.001374  0.001224\n",
       "Germany  0.066755  0.053422  0.064055\n",
       "UK       0.055630  0.046267  0.053905\n",
       "US       0.040580  0.032909  0.038508"
      ]
     },
     "execution_count": 4,
     "metadata": {},
     "output_type": "execute_result"
    }
   ],
   "source": [
    "table_conversion = pd.pivot_table(conversion, values=['converted'],index=['country'],columns=['source'],aggfunc='mean',margins=False)\n",
    "table_conversion"
   ]
  },
  {
   "cell_type": "markdown",
   "metadata": {},
   "source": [
    "### The table shows that China has the lowest conversion rates among the four countries. People accessed by direct search have the slightly low conversion rates than people accessed by advertisement and search engine recommendation."
   ]
  },
  {
   "cell_type": "markdown",
   "metadata": {},
   "source": [
    "## (b). Make a pivot table of conversion rates by access method and by country."
   ]
  },
  {
   "cell_type": "code",
   "execution_count": 5,
   "metadata": {},
   "outputs": [
    {
     "data": {
      "text/plain": [
       "Text(0.5,1,'Conversion Rates by Access Method and by Country')"
      ]
     },
     "execution_count": 5,
     "metadata": {},
     "output_type": "execute_result"
    },
    {
     "data": {
      "image/png": "[encoded data removed]",
      "text/plain": [
       "<matplotlib.figure.Figure at 0x1a12604da0>"
      ]
     },
     "metadata": {},
     "output_type": "display_data"
    }
   ],
   "source": [
    "plt.figure(figsize=(17,16))\n",
    "sns.heatmap(table_conversion['converted'], linewidths=1,annot=True,vmin=0,vmax=0.1,cmap='YlGnBu')\n",
    "plt.title(\"Conversion Rates by Access Method and by Country\")"
   ]
  },
  {
   "cell_type": "markdown",
   "metadata": {},
   "source": [
    "### The result from the plot is consistent with the aggregate table."
   ]
  },
  {
   "cell_type": "markdown",
   "metadata": {},
   "source": [
    "# Question 2. Are website activities different among three access methods? "
   ]
  },
  {
   "cell_type": "markdown",
   "metadata": {},
   "source": [
    "### Before doing the analysis, I will first remove outliers since they may bias the result. Outliers are defined as the numbers beyond the interval, [mean-4\\*sd, mean+4\\*sd], where sd is the standard deviation of the number of pages visited using the three access methods."
   ]
  },
  {
   "cell_type": "code",
   "execution_count": 208,
   "metadata": {},
   "outputs": [],
   "source": [
    "conversion_ads = conversion[conversion[\"source\"]==\"Ads\"][\"total_pages_visited\"]\n",
    "conversion_Direct = conversion[conversion[\"source\"]==\"Direct\"][\"total_pages_visited\"]\n",
    "conversion_Seo = conversion[conversion[\"source\"]==\"Seo\"][\"total_pages_visited\"]"
   ]
  },
  {
   "cell_type": "code",
   "execution_count": 209,
   "metadata": {},
   "outputs": [],
   "source": [
    "ads_mean=conversion_ads.mean()\n",
    "ads_sd=conversion_ads.std()\n",
    "\n",
    "Direct_mean=conversion_Direct.mean()\n",
    "Direct_sd=conversion_Direct.std()\n",
    "\n",
    "Seo_mean=conversion_Seo.mean()\n",
    "Seo_sd=conversion_Seo.std()\n",
    "\n",
    "conversion_ads = conversion[(conversion[\"source\"]==\"Ads\") & (conversion[\"total_pages_visited\"]<(ads_mean+ads_sd*4)) & (conversion[\"total_pages_visited\"]>(ads_mean-ads_sd*4))]\n",
    "conversion_Direct = conversion[(conversion[\"source\"]==\"Direct\") & (conversion[\"total_pages_visited\"]<(Direct_mean+Direct_sd*4)) & (conversion[\"total_pages_visited\"]>(Direct_mean-Direct_sd*4))]\n",
    "conversion_Seo = conversion[(conversion[\"source\"]==\"Seo\") & (conversion[\"total_pages_visited\"]<(Seo_mean+Seo_sd*4)) & (conversion[\"total_pages_visited\"]>(Seo_mean-Seo_sd*4))]\n",
    "\n",
    "conversion_web=pd.concat([conversion_ads, conversion_Direct, conversion_Seo])"
   ]
  },
  {
   "cell_type": "markdown",
   "metadata": {},
   "source": [
    "## (a). Calculate the average website activities for three access methods. Use one-way ANOVA to examine whether the differences are significant."
   ]
  },
  {
   "cell_type": "code",
   "execution_count": 160,
   "metadata": {},
   "outputs": [
    {
     "data": {
      "text/plain": [
       "source\n",
       "Ads       4.807304\n",
       "Direct    4.716216\n",
       "Seo       4.801439\n",
       "Name: total_pages_visited, dtype: float64"
      ]
     },
     "execution_count": 160,
     "metadata": {},
     "output_type": "execute_result"
    }
   ],
   "source": [
    "conversion_web.groupby(\"source\")[\"total_pages_visited\"].mean()"
   ]
  },
  {
   "cell_type": "markdown",
   "metadata": {},
   "source": [
    "### People who came from advertisement have the most website activities, while people from direct search have the least website activities."
   ]
  },
  {
   "cell_type": "code",
   "execution_count": 161,
   "metadata": {},
   "outputs": [
    {
     "data": {
      "text/plain": [
       "F_onewayResult(statistic=21.671679388034043, pvalue=3.8793410476483701e-10)"
      ]
     },
     "execution_count": 161,
     "metadata": {},
     "output_type": "execute_result"
    }
   ],
   "source": [
    "conversion_ads_p=conversion_ads[\"total_pages_visited\"]\n",
    "conversion_Direct_p=conversion_Direct[\"total_pages_visited\"]\n",
    "conversion_Seo_p=conversion_Seo[\"total_pages_visited\"]\n",
    "\n",
    "stats.f_oneway(conversion_ads_p, conversion_Direct_p, conversion_Seo_p) "
   ]
  },
  {
   "cell_type": "markdown",
   "metadata": {},
   "source": [
    "### There is a significant difference in website activities among the three access methods. Let's see where the difference comes from specifically."
   ]
  },
  {
   "cell_type": "code",
   "execution_count": 162,
   "metadata": {},
   "outputs": [
    {
     "data": {
      "text/plain": [
       "Ttest_indResult(statistic=5.820923178397333, pvalue=5.863454909125437e-09)"
      ]
     },
     "execution_count": 162,
     "metadata": {},
     "output_type": "execute_result"
    }
   ],
   "source": [
    "stats.ttest_ind(conversion_ads_p, conversion_Direct_p)"
   ]
  },
  {
   "cell_type": "code",
   "execution_count": 163,
   "metadata": {},
   "outputs": [
    {
     "data": {
      "text/plain": [
       "Ttest_indResult(statistic=0.44002355614702371, pvalue=0.65992043865607064)"
      ]
     },
     "execution_count": 163,
     "metadata": {},
     "output_type": "execute_result"
    }
   ],
   "source": [
    "stats.ttest_ind(conversion_ads_p, conversion_Seo_p)"
   ]
  },
  {
   "cell_type": "code",
   "execution_count": 164,
   "metadata": {},
   "outputs": [
    {
     "data": {
      "text/plain": [
       "Ttest_indResult(statistic=-6.0540139135191104, pvalue=1.4150165166004204e-09)"
      ]
     },
     "execution_count": 164,
     "metadata": {},
     "output_type": "execute_result"
    }
   ],
   "source": [
    "stats.ttest_ind(conversion_Direct_p, conversion_Seo_p)"
   ]
  },
  {
   "cell_type": "markdown",
   "metadata": {},
   "source": [
    "### T-tests show that there is a significant difference in website activities between direct search and search engine recommendation and between direct search and advertisement. But there is no difference between advertisement and search engine recommendation.\n",
    "\n",
    "### In sum, people accessed by direct search have significantly less website activities than people accessed by search engine recommendation and people accessed by advertisement; people accessed by advertisement have no difference in website activities from people accessed by search engine recommendation."
   ]
  },
  {
   "cell_type": "markdown",
   "metadata": {},
   "source": [
    "## (b). Make the boxplots of activities by three access methods."
   ]
  },
  {
   "cell_type": "code",
   "execution_count": 157,
   "metadata": {
    "scrolled": false
   },
   "outputs": [
    {
     "data": {
      "text/plain": [
       "<matplotlib.axes._subplots.AxesSubplot at 0x1a15091da0>"
      ]
     },
     "execution_count": 157,
     "metadata": {},
     "output_type": "execute_result"
    },
    {
     "data": {
      "image/png": "[encoded data removed]",
      "text/plain": [
       "<matplotlib.figure.Figure at 0x1a22affe48>"
      ]
     },
     "metadata": {},
     "output_type": "display_data"
    }
   ],
   "source": [
    "sns.boxplot(data=conversion_web, x=\"source\", y=\"total_pages_visited\")"
   ]
  },
  {
   "cell_type": "markdown",
   "metadata": {},
   "source": [
    "### The boxplots show that people accessed by direct search generally have less website activities than people accessed by advertisement and search engine recommendation, which is consistent with the analysis result."
   ]
  },
  {
   "attachments": {},
   "cell_type": "markdown",
   "metadata": {},
   "source": [
    "# Question 3. For each website access method, how different is it between converted users and non-converted users in terms of age, user types (new or repeated), and website activity?"
   ]
  },
  {
   "cell_type": "markdown",
   "metadata": {},
   "source": [
    "### Before doing the analysis, I will still remove the outliers that may bias the result. In the previous question, I have removed outliers of the number of pages visited. Now I also want to remove the outliers of age. Outliers are still defined as the numbers beyond the interval, [mean-6\\*sd, mean+6\\*sd]."
   ]
  },
  {
   "cell_type": "code",
   "execution_count": 210,
   "metadata": {},
   "outputs": [],
   "source": [
    "ads_mean2=conversion_ads[\"age\"].mean()\n",
    "ads_sd2=conversion_ads[\"age\"].std()\n",
    "\n",
    "Direct_mean2=conversion_Direct[\"age\"].mean()\n",
    "Direct_sd2=conversion_Direct[\"age\"].std()\n",
    "\n",
    "Seo_mean2=conversion_Seo[\"age\"].mean()\n",
    "Seo_sd2=conversion_Seo[\"age\"].std()\n",
    "\n",
    "conversion_ads = conversion_web[(conversion_web[\"source\"]==\"Ads\") & (conversion_web[\"age\"]<(ads_mean2+ads_sd2*6)) & (conversion_web[\"age\"]>(ads_mean2-ads_sd2*6))]\n",
    "conversion_Direct = conversion_web[(conversion_web[\"source\"]==\"Direct\") & (conversion_web[\"age\"]<(Direct_mean2+Direct_sd2*6)) & (conversion_web[\"age\"]>(Direct_mean2-Direct_sd2*6))]\n",
    "conversion_Seo = conversion_web[(conversion_web[\"source\"]==\"Seo\") & (conversion_web[\"age\"]<(Seo_mean2+Seo_sd2*6)) & (conversion_web[\"age\"]>(Seo_mean2-Seo_sd2*6))]\n",
    "\n",
    "conversion_web=pd.concat([conversion_ads, conversion_Direct, conversion_Seo])\n"
   ]
  },
  {
   "cell_type": "markdown",
   "metadata": {},
   "source": [
    "## (a). For each website access method, group the data by conversion type and calculate the differences between the two types in terms of age, rate of new users, and activity. Use t test for age and activity and chi-square test for user type to examine the differences."
   ]
  },
  {
   "cell_type": "code",
   "execution_count": 211,
   "metadata": {},
   "outputs": [
    {
     "data": {
      "text/html": [
       "<div>\n",
       "<style>\n",
       "    .dataframe thead tr:only-child th {\n",
       "        text-align: right;\n",
       "    }\n",
       "\n",
       "    .dataframe thead th {\n",
       "        text-align: left;\n",
       "    }\n",
       "\n",
       "    .dataframe tbody tr th {\n",
       "        vertical-align: top;\n",
       "    }\n",
       "</style>\n",
       "<table border=\"1\" class=\"dataframe\">\n",
       "  <thead>\n",
       "    <tr style=\"text-align: right;\">\n",
       "      <th>converted</th>\n",
       "      <th>0</th>\n",
       "      <th>1</th>\n",
       "      <th>diff</th>\n",
       "      <th>abs diff</th>\n",
       "    </tr>\n",
       "    <tr>\n",
       "      <th>source</th>\n",
       "      <th></th>\n",
       "      <th></th>\n",
       "      <th></th>\n",
       "      <th></th>\n",
       "    </tr>\n",
       "  </thead>\n",
       "  <tbody>\n",
       "    <tr>\n",
       "      <th>Ads</th>\n",
       "      <td>30.677988</td>\n",
       "      <td>26.531287</td>\n",
       "      <td>-4.146701</td>\n",
       "      <td>4.146701</td>\n",
       "    </tr>\n",
       "    <tr>\n",
       "      <th>Direct</th>\n",
       "      <td>30.681568</td>\n",
       "      <td>26.690932</td>\n",
       "      <td>-3.990635</td>\n",
       "      <td>3.990635</td>\n",
       "    </tr>\n",
       "    <tr>\n",
       "      <th>Seo</th>\n",
       "      <td>30.728987</td>\n",
       "      <td>26.475991</td>\n",
       "      <td>-4.252997</td>\n",
       "      <td>4.252997</td>\n",
       "    </tr>\n",
       "  </tbody>\n",
       "</table>\n",
       "</div>"
      ],
      "text/plain": [
       "converted          0          1      diff  abs diff\n",
       "source                                             \n",
       "Ads        30.677988  26.531287 -4.146701  4.146701\n",
       "Direct     30.681568  26.690932 -3.990635  3.990635\n",
       "Seo        30.728987  26.475991 -4.252997  4.252997"
      ]
     },
     "execution_count": 211,
     "metadata": {},
     "output_type": "execute_result"
    }
   ],
   "source": [
    "# Age\n",
    "\n",
    "age_pivoted = conversion_web.pivot_table(index = \"source\",\n",
    "                                          columns = \"converted\",\n",
    "                                          values = \"age\",\n",
    "                                          aggfunc = \"mean\")\n",
    "age_pivoted[\"diff\"]=age_pivoted[1]-age_pivoted[0]\n",
    "age_pivoted[\"abs diff\"]=(age_pivoted[1]-age_pivoted[0]).abs()\n",
    "age_pivoted"
   ]
  },
  {
   "cell_type": "code",
   "execution_count": 212,
   "metadata": {},
   "outputs": [
    {
     "data": {
      "text/html": [
       "<div>\n",
       "<style>\n",
       "    .dataframe thead tr:only-child th {\n",
       "        text-align: right;\n",
       "    }\n",
       "\n",
       "    .dataframe thead th {\n",
       "        text-align: left;\n",
       "    }\n",
       "\n",
       "    .dataframe tbody tr th {\n",
       "        vertical-align: top;\n",
       "    }\n",
       "</style>\n",
       "<table border=\"1\" class=\"dataframe\">\n",
       "  <thead>\n",
       "    <tr style=\"text-align: right;\">\n",
       "      <th>converted</th>\n",
       "      <th>0</th>\n",
       "      <th>1</th>\n",
       "      <th>diff</th>\n",
       "      <th>abs diff</th>\n",
       "    </tr>\n",
       "    <tr>\n",
       "      <th>source</th>\n",
       "      <th></th>\n",
       "      <th></th>\n",
       "      <th></th>\n",
       "      <th></th>\n",
       "    </tr>\n",
       "  </thead>\n",
       "  <tbody>\n",
       "    <tr>\n",
       "      <th>Ads</th>\n",
       "      <td>0.699977</td>\n",
       "      <td>0.281385</td>\n",
       "      <td>-0.418591</td>\n",
       "      <td>0.418591</td>\n",
       "    </tr>\n",
       "    <tr>\n",
       "      <th>Direct</th>\n",
       "      <td>0.697468</td>\n",
       "      <td>0.325670</td>\n",
       "      <td>-0.371797</td>\n",
       "      <td>0.371797</td>\n",
       "    </tr>\n",
       "    <tr>\n",
       "      <th>Seo</th>\n",
       "      <td>0.697887</td>\n",
       "      <td>0.291375</td>\n",
       "      <td>-0.406512</td>\n",
       "      <td>0.406512</td>\n",
       "    </tr>\n",
       "  </tbody>\n",
       "</table>\n",
       "</div>"
      ],
      "text/plain": [
       "converted         0         1      diff  abs diff\n",
       "source                                           \n",
       "Ads        0.699977  0.281385 -0.418591  0.418591\n",
       "Direct     0.697468  0.325670 -0.371797  0.371797\n",
       "Seo        0.697887  0.291375 -0.406512  0.406512"
      ]
     },
     "execution_count": 212,
     "metadata": {},
     "output_type": "execute_result"
    }
   ],
   "source": [
    "# User type\n",
    "\n",
    "new_pivoted = conversion_web.pivot_table(index = \"source\",\n",
    "                                          columns = \"converted\",\n",
    "                                          values = \"new_user\",\n",
    "                                          aggfunc = \"mean\")\n",
    "new_pivoted[\"diff\"]=new_pivoted[1]-new_pivoted[0]\n",
    "new_pivoted[\"abs diff\"]=(new_pivoted[1]-new_pivoted[0]).abs()\n",
    "new_pivoted"
   ]
  },
  {
   "cell_type": "code",
   "execution_count": 213,
   "metadata": {},
   "outputs": [
    {
     "data": {
      "text/html": [
       "<div>\n",
       "<style>\n",
       "    .dataframe thead tr:only-child th {\n",
       "        text-align: right;\n",
       "    }\n",
       "\n",
       "    .dataframe thead th {\n",
       "        text-align: left;\n",
       "    }\n",
       "\n",
       "    .dataframe tbody tr th {\n",
       "        vertical-align: top;\n",
       "    }\n",
       "</style>\n",
       "<table border=\"1\" class=\"dataframe\">\n",
       "  <thead>\n",
       "    <tr style=\"text-align: right;\">\n",
       "      <th>converted</th>\n",
       "      <th>0</th>\n",
       "      <th>1</th>\n",
       "      <th>diff</th>\n",
       "      <th>abs diff</th>\n",
       "    </tr>\n",
       "    <tr>\n",
       "      <th>source</th>\n",
       "      <th></th>\n",
       "      <th></th>\n",
       "      <th></th>\n",
       "      <th></th>\n",
       "    </tr>\n",
       "  </thead>\n",
       "  <tbody>\n",
       "    <tr>\n",
       "      <th>Ads</th>\n",
       "      <td>4.551646</td>\n",
       "      <td>13.425817</td>\n",
       "      <td>8.874171</td>\n",
       "      <td>8.874171</td>\n",
       "    </tr>\n",
       "    <tr>\n",
       "      <th>Direct</th>\n",
       "      <td>4.533762</td>\n",
       "      <td>12.915709</td>\n",
       "      <td>8.381947</td>\n",
       "      <td>8.381947</td>\n",
       "    </tr>\n",
       "    <tr>\n",
       "      <th>Seo</th>\n",
       "      <td>4.556305</td>\n",
       "      <td>13.366434</td>\n",
       "      <td>8.810129</td>\n",
       "      <td>8.810129</td>\n",
       "    </tr>\n",
       "  </tbody>\n",
       "</table>\n",
       "</div>"
      ],
      "text/plain": [
       "converted         0          1      diff  abs diff\n",
       "source                                            \n",
       "Ads        4.551646  13.425817  8.874171  8.874171\n",
       "Direct     4.533762  12.915709  8.381947  8.381947\n",
       "Seo        4.556305  13.366434  8.810129  8.810129"
      ]
     },
     "execution_count": 213,
     "metadata": {},
     "output_type": "execute_result"
    }
   ],
   "source": [
    "# Website activities\n",
    "\n",
    "page_pivoted = conversion_web.pivot_table(index = \"source\",\n",
    "                                          columns = \"converted\",\n",
    "                                          values = \"total_pages_visited\",\n",
    "                                          aggfunc = \"mean\")\n",
    "page_pivoted[\"diff\"]=page_pivoted[1]-page_pivoted[0]\n",
    "page_pivoted[\"abs diff\"]=(page_pivoted[1]-page_pivoted[0]).abs()\n",
    "page_pivoted"
   ]
  },
  {
   "cell_type": "markdown",
   "metadata": {},
   "source": [
    "### According to the tables, the non-converters are generally older, more new users, and have less website activities than converters.\n",
    "\n",
    "### Next, I will use t test and chi-square test to investigate the differences between two conversion types in those variables for each of three access methods."
   ]
  },
  {
   "cell_type": "code",
   "execution_count": 214,
   "metadata": {},
   "outputs": [
    {
     "data": {
      "text/plain": [
       "Ttest_indResult(statistic=25.100786557212359, pvalue=1.4991387299285716e-138)"
      ]
     },
     "execution_count": 214,
     "metadata": {},
     "output_type": "execute_result"
    }
   ],
   "source": [
    "# Age - Advertisement\n",
    "\n",
    "stats.ttest_ind(conversion_web[(conversion_web[\"source\"]==\"Ads\") & (conversion_web[\"converted\"]==0)][\"age\"],\n",
    "               conversion_web[(conversion_web[\"source\"]==\"Ads\") & (conversion_web[\"converted\"]==1)][\"age\"])"
   ]
  },
  {
   "cell_type": "code",
   "execution_count": 215,
   "metadata": {},
   "outputs": [
    {
     "data": {
      "text/plain": [
       "Ttest_indResult(statistic=18.923966458395466, pvalue=1.131626806891408e-79)"
      ]
     },
     "execution_count": 215,
     "metadata": {},
     "output_type": "execute_result"
    }
   ],
   "source": [
    "# Age - Direct search\n",
    "\n",
    "stats.ttest_ind(conversion_web[(conversion_web[\"source\"]==\"Direct\") & (conversion_web[\"converted\"]==0)][\"age\"],\n",
    "               conversion_web[(conversion_web[\"source\"]==\"Direct\") & (conversion_web[\"converted\"]==1)][\"age\"])"
   ]
  },
  {
   "cell_type": "code",
   "execution_count": 216,
   "metadata": {},
   "outputs": [
    {
     "data": {
      "text/plain": [
       "Ttest_indResult(statistic=33.264374675858797, pvalue=9.1523040676500367e-242)"
      ]
     },
     "execution_count": 216,
     "metadata": {},
     "output_type": "execute_result"
    }
   ],
   "source": [
    "# Age - Search engine recommendation\n",
    "\n",
    "stats.ttest_ind(conversion_web[(conversion_web[\"source\"]==\"Seo\") & (conversion_web[\"converted\"]==0)][\"age\"],\n",
    "               conversion_web[(conversion_web[\"source\"]==\"Seo\") & (conversion_web[\"converted\"]==1)][\"age\"])"
   ]
  },
  {
   "cell_type": "code",
   "execution_count": 217,
   "metadata": {},
   "outputs": [
    {
     "name": "stdout",
     "output_type": "stream",
     "text": [
      "chi2 =  2012.18723448\n",
      "p-val =  0.0\n",
      "degree of freedom =  1\n"
     ]
    }
   ],
   "source": [
    "# User type - Advertisement\n",
    "m1=pd.crosstab(conversion_ads['converted'], conversion_ads['new_user'])\n",
    "\n",
    "chi2, p, dof, ex = chi2_contingency(m1)\n",
    "print(\"chi2 = \", chi2)\n",
    "print(\"p-val = \", p)\n",
    "print(\"degree of freedom = \",dof)"
   ]
  },
  {
   "cell_type": "code",
   "execution_count": 218,
   "metadata": {},
   "outputs": [
    {
     "name": "stdout",
     "output_type": "stream",
     "text": [
      "chi2 =  987.16908951\n",
      "p-val =  1.10474314866e-216\n",
      "degree of freedom =  1\n"
     ]
    }
   ],
   "source": [
    "# User type - Direct search\n",
    "m2=pd.crosstab(conversion_Direct['converted'], conversion_Direct['new_user'])\n",
    "\n",
    "chi2, p, dof, ex = chi2_contingency(m2)\n",
    "print(\"chi2 = \", chi2)\n",
    "print(\"p-val = \", p)\n",
    "print(\"degree of freedom = \",dof)"
   ]
  },
  {
   "cell_type": "code",
   "execution_count": 219,
   "metadata": {},
   "outputs": [
    {
     "name": "stdout",
     "output_type": "stream",
     "text": [
      "chi2 =  3200.93694761\n",
      "p-val =  0.0\n",
      "degree of freedom =  1\n"
     ]
    }
   ],
   "source": [
    "# User type - Search engine recommendation\n",
    "\n",
    "m3=pd.crosstab(conversion_Seo['converted'], conversion_Seo['new_user'])\n",
    "\n",
    "chi2, p, dof, ex = chi2_contingency(m3)\n",
    "print(\"chi2 = \", chi2)\n",
    "print(\"p-val = \", p)\n",
    "print(\"degree of freedom = \",dof)"
   ]
  },
  {
   "cell_type": "code",
   "execution_count": 220,
   "metadata": {},
   "outputs": [
    {
     "data": {
      "text/plain": [
       "Ttest_indResult(statistic=-157.41433852255477, pvalue=0.0)"
      ]
     },
     "execution_count": 220,
     "metadata": {},
     "output_type": "execute_result"
    }
   ],
   "source": [
    "# Website activities - Advertisement\n",
    "\n",
    "stats.ttest_ind(conversion_web[(conversion_web[\"source\"]==\"Ads\") & (conversion_web[\"converted\"]==0)][\"total_pages_visited\"],\n",
    "               conversion_web[(conversion_web[\"source\"]==\"Ads\") & (conversion_web[\"converted\"]==1)][\"total_pages_visited\"])"
   ]
  },
  {
   "cell_type": "code",
   "execution_count": 221,
   "metadata": {},
   "outputs": [
    {
     "data": {
      "text/plain": [
       "Ttest_indResult(statistic=-117.55689835161211, pvalue=0.0)"
      ]
     },
     "execution_count": 221,
     "metadata": {},
     "output_type": "execute_result"
    }
   ],
   "source": [
    "# Website activities - Direct search\n",
    "\n",
    "stats.ttest_ind(conversion_web[(conversion_web[\"source\"]==\"Direct\") & (conversion_web[\"converted\"]==0)][\"total_pages_visited\"],\n",
    "               conversion_web[(conversion_web[\"source\"]==\"Direct\") & (conversion_web[\"converted\"]==1)][\"total_pages_visited\"])"
   ]
  },
  {
   "cell_type": "code",
   "execution_count": 222,
   "metadata": {},
   "outputs": [
    {
     "data": {
      "text/plain": [
       "Ttest_indResult(statistic=-203.37992774520609, pvalue=0.0)"
      ]
     },
     "execution_count": 222,
     "metadata": {},
     "output_type": "execute_result"
    }
   ],
   "source": [
    "# Website activities - Search engine recommendation\n",
    "\n",
    "stats.ttest_ind(conversion_web[(conversion_web[\"source\"]==\"Seo\") & (conversion_web[\"converted\"]==0)][\"total_pages_visited\"],\n",
    "               conversion_web[(conversion_web[\"source\"]==\"Seo\") & (conversion_web[\"converted\"]==1)][\"total_pages_visited\"])"
   ]
  },
  {
   "cell_type": "markdown",
   "metadata": {},
   "source": [
    "### According to the t test and chi square test, non-converters and converters have the difference in age, user type, and website activities in all three access methods. In other words, non-converters are significantly older, more new users, and have less website activities than converters in all three access methods.\n"
   ]
  },
  {
   "cell_type": "markdown",
   "metadata": {},
   "source": [
    "## (b). For each website access method, make the boxplots of age and activity for each conversion type separately; make bar charts of user type for each conversion type separately."
   ]
  },
  {
   "cell_type": "code",
   "execution_count": 228,
   "metadata": {},
   "outputs": [
    {
     "data": {
      "text/plain": [
       "Text(0.5,0,'Seo')"
      ]
     },
     "execution_count": 228,
     "metadata": {},
     "output_type": "execute_result"
    },
    {
     "data": {
      "image/png": "[encoded data removed]",
      "text/plain": [
       "<matplotlib.figure.Figure at 0x1a1f7b4dd8>"
      ]
     },
     "metadata": {},
     "output_type": "display_data"
    }
   ],
   "source": [
    "# Age\n",
    "f, (ax1, ax2, ax3) = plt.subplots(1, 3, sharey=True)\n",
    "sns.boxplot(data=conversion_ads, x=\"converted\", y=\"age\", ax=ax1)\n",
    "sns.boxplot(data=conversion_Direct, x=\"converted\", y=\"age\", ax=ax2)\n",
    "sns.boxplot(data=conversion_Seo, x=\"converted\", y=\"age\", ax=ax3)\n",
    "ax1.set_xlabel('Ads')\n",
    "ax2.set_xlabel('Direct')\n",
    "ax3.set_xlabel('Seo')"
   ]
  },
  {
   "cell_type": "code",
   "execution_count": 230,
   "metadata": {},
   "outputs": [
    {
     "data": {
      "text/plain": [
       "Text(0.5,0,'Seo')"
      ]
     },
     "execution_count": 230,
     "metadata": {},
     "output_type": "execute_result"
    },
    {
     "data": {
      "image/png": "[encoded data removed]",
      "text/plain": [
       "<matplotlib.figure.Figure at 0x1a2028f6d8>"
      ]
     },
     "metadata": {},
     "output_type": "display_data"
    }
   ],
   "source": [
    "# User type\n",
    "f, (ax1, ax2, ax3) = plt.subplots(1, 3, sharey=True)\n",
    "sns.barplot(data=conversion_ads, x=\"converted\", y=\"new_user\", ax=ax1)\n",
    "sns.barplot(data=conversion_Direct, x=\"converted\", y=\"new_user\", ax=ax2)\n",
    "sns.barplot(data=conversion_Seo, x=\"converted\", y=\"new_user\", ax=ax3)\n",
    "ax1.set_xlabel('Ads')\n",
    "ax2.set_xlabel('Direct')\n",
    "ax3.set_xlabel('Seo')"
   ]
  },
  {
   "cell_type": "code",
   "execution_count": 229,
   "metadata": {},
   "outputs": [
    {
     "data": {
      "text/plain": [
       "Text(0.5,0,'Seo')"
      ]
     },
     "execution_count": 229,
     "metadata": {},
     "output_type": "execute_result"
    },
    {
     "data": {
      "image/png": "[encoded data removed]",
      "text/plain": [
       "<matplotlib.figure.Figure at 0x1a1fb4b470>"
      ]
     },
     "metadata": {},
     "output_type": "display_data"
    }
   ],
   "source": [
    "# Website activities\n",
    "f, (ax1, ax2, ax3) = plt.subplots(1, 3, sharey=True)\n",
    "sns.boxplot(data=conversion_ads, x=\"converted\", y=\"total_pages_visited\", ax=ax1)\n",
    "sns.boxplot(data=conversion_Direct, x=\"converted\", y=\"total_pages_visited\", ax=ax2)\n",
    "sns.boxplot(data=conversion_Seo, x=\"converted\", y=\"total_pages_visited\", ax=ax3)\n",
    "ax1.set_xlabel('Ads')\n",
    "ax2.set_xlabel('Direct')\n",
    "ax3.set_xlabel('Seo')"
   ]
  },
  {
   "cell_type": "markdown",
   "metadata": {},
   "source": [
    "### According to the plots, non-converters are significantly older, more new users, and have less website activities than converters in all three access methods, which is consistent with the analysis result"
   ]
  },
  {
   "cell_type": "markdown",
   "metadata": {},
   "source": [
    "# Question 4. How can we use this data set to predict whether a user will be converted?"
   ]
  },
  {
   "cell_type": "markdown",
   "metadata": {},
   "source": [
    "## Solution: (a). Use various machine learning techniques, such as classification trees, random forest, support vector machine, and gradient boosting. See which technique has the best performance. The predictors are country, age, whether the user is a new user or repeated user, website access method, and the number of pages visited during that session."
   ]
  },
  {
   "cell_type": "markdown",
   "metadata": {},
   "source": [
    "### I will use three types of machine learning techniques to predict conversion: classification tree, random forest, and gradient boosting. I will use cross validation (cv=5) to do all the models. I use data from previous steps where outliers of number of pages visited and age have been removed."
   ]
  },
  {
   "cell_type": "code",
   "execution_count": 288,
   "metadata": {
    "collapsed": true
   },
   "outputs": [],
   "source": [
    "from sklearn import tree\n",
    "from sklearn.model_selection import train_test_split\n",
    "from sklearn.metrics import accuracy_score\n",
    "from sklearn.model_selection import GridSearchCV\n",
    "from sklearn.ensemble import RandomForestClassifier, GradientBoostingClassifier"
   ]
  },
  {
   "cell_type": "code",
   "execution_count": 258,
   "metadata": {},
   "outputs": [],
   "source": [
    "# Convert two categorical variables to numeric\n",
    "conversion_web[\"country\"] = conversion_web[\"country\"].astype('category')\n",
    "conversion_web[\"source\"] = conversion_web[\"source\"].astype('category')\n",
    "conversion_web[\"country_cat\"] = conversion_web[\"country\"].cat.codes\n",
    "conversion_web[\"source_cat\"] = conversion_web[\"source\"].cat.codes"
   ]
  },
  {
   "cell_type": "code",
   "execution_count": 259,
   "metadata": {
    "collapsed": true
   },
   "outputs": [],
   "source": [
    "x = conversion_web[[\"age\",\"new_user\",\"total_pages_visited\",\"country_cat\",\"source_cat\"]]\n",
    "y = conversion_web[[\"converted\"]]\n",
    "\n",
    "x_train, x_test, y_train, y_test = train_test_split(x, y, random_state = 1234) # Spilt data into 75% and 25% as train and test data set"
   ]
  },
  {
   "cell_type": "code",
   "execution_count": 325,
   "metadata": {},
   "outputs": [
    {
     "name": "stdout",
     "output_type": "stream",
     "text": [
      "The best accuracy score of training data set is  0.983319903304\n",
      "The parameter of the best model is  {'max_depth': 3, 'min_impurity_decrease': 0.001}\n",
      "The accuracy score of test data set is  0.984630456633\n"
     ]
    }
   ],
   "source": [
    "# Classification tree\n",
    "\n",
    "param ={\"max_depth\":range(2,5), \"min_impurity_decrease\":[0.1, 0.01, 0.001]}\n",
    "\n",
    "\n",
    "clf_gini = GridSearchCV(tree.DecisionTreeClassifier(criterion = \"gini\", random_state = 100), param, cv=5)\n",
    "clf_gini.fit(x_train, y_train)\n",
    "print(\"The best accuracy score of training data set is \",clf_gini.best_score_)\n",
    "print(\"The parameter of the best model is \",clf_gini.best_params_)\n",
    "y_pre_c = clf_gini.predict(x_test)\n",
    "accuracy_classif = accuracy_score(y_test, y_pre_c)\n",
    "print(\"The accuracy score of test data set is \",accuracy_classif)"
   ]
  },
  {
   "cell_type": "code",
   "execution_count": 285,
   "metadata": {},
   "outputs": [
    {
     "name": "stdout",
     "output_type": "stream",
     "text": [
      "The best accuracy score of training data set is  0.973349166631\n",
      "The parameter of the best model is  {'n_estimators': 10}\n",
      "The accuracy score of test data set is  0.97311602224\n"
     ]
    }
   ],
   "source": [
    "# Random Forest\n",
    "\n",
    "param = {\"n_estimators\":[10, 50, 100]}\n",
    "\n",
    "rf = GridSearchCV(RandomForestClassifier(criterion = \"gini\", max_depth = 3, min_impurity_decrease = 0.001, \n",
    "                                         random_state = 100), param, cv=5)\n",
    "rf.fit(x_train, y_train.values.ravel())\n",
    "print(\"The best accuracy score of training data set is \",rf.best_score_)\n",
    "print(\"The parameter of the best model is \",rf.best_params_)\n",
    "y_pre_r = rf.predict(x_test) \n",
    "accuracy_rf = accuracy_score(y_test, y_pre_r)\n",
    "print(\"The accuracy score of test data set is \",accuracy_rf)"
   ]
  },
  {
   "cell_type": "code",
   "execution_count": 292,
   "metadata": {},
   "outputs": [
    {
     "name": "stdout",
     "output_type": "stream",
     "text": [
      "The best accuracy score of training data set is  0.985957843844\n",
      "The parameter of the best model is  {'learning_rate': 0.2, 'n_estimators': 100}\n",
      "The accuracy score of test data set is  0.986119063069\n"
     ]
    }
   ],
   "source": [
    "# Gradient Boosting\n",
    "\n",
    "param = {\"n_estimators\":[10, 50, 100], \"learning_rate\":[0.1, 0.2]}\n",
    "\n",
    "gb = GridSearchCV(GradientBoostingClassifier(max_depth = 3, min_impurity_decrease = 0.001, \n",
    "                                         random_state = 100), param, cv=5)\n",
    "gb.fit(x_train, y_train.values.ravel())\n",
    "print(\"The best accuracy score of training data set is \",gb.best_score_)\n",
    "print(\"The parameter of the best model is \",gb.best_params_)\n",
    "y_pre_g = gb.predict(x_test)\n",
    "accuracy_gb = accuracy_score(y_test, y_pre_g)\n",
    "print(\"The accuracy score of test data set is \",accuracy_gb)"
   ]
  },
  {
   "cell_type": "markdown",
   "metadata": {},
   "source": [
    "### All three techniques have very high accuracy scores for both training data set and test data set, indicating all the models have good ability to predict conversion. Gradient boosting has the highest accuracy score for test data set, while random forest has the lowest score among the three models."
   ]
  },
  {
   "cell_type": "markdown",
   "metadata": {},
   "source": [
    "## (b). After conducting machine learning models, plot the confusion_matrix for the three models. Plot ROC curves of all the models to see which technique has the best performance."
   ]
  },
  {
   "cell_type": "code",
   "execution_count": 317,
   "metadata": {
    "collapsed": true
   },
   "outputs": [],
   "source": [
    "from sklearn.metrics import roc_curve\n",
    "from sklearn.metrics import confusion_matrix"
   ]
  },
  {
   "cell_type": "code",
   "execution_count": 327,
   "metadata": {},
   "outputs": [
    {
     "data": {
      "text/plain": [
       "Text(0.5,1,'Classification Tree')"
      ]
     },
     "execution_count": 327,
     "metadata": {},
     "output_type": "execute_result"
    },
    {
     "data": {
      "image/png": "[encoded data removed]",
      "text/plain": [
       "<matplotlib.figure.Figure at 0x1a298895f8>"
      ]
     },
     "metadata": {},
     "output_type": "display_data"
    }
   ],
   "source": [
    "# Classification Tree\n",
    "\n",
    "clf_con = confusion_matrix(y_test, y_pre_c)\n",
    "sns.heatmap(clf_con.T, square=True, annot=True, fmt='d', cbar=False)\n",
    "plt.xlabel('true label')\n",
    "plt.ylabel('predicted label')\n",
    "plt.title(\"Classification Tree\")"
   ]
  },
  {
   "cell_type": "code",
   "execution_count": 326,
   "metadata": {},
   "outputs": [
    {
     "data": {
      "text/plain": [
       "Text(0.5,1,'Random Forest')"
      ]
     },
     "execution_count": 326,
     "metadata": {},
     "output_type": "execute_result"
    },
    {
     "data": {
      "image/png": "[encoded data removed]",
      "text/plain": [
       "<matplotlib.figure.Figure at 0x1a285008d0>"
      ]
     },
     "metadata": {},
     "output_type": "display_data"
    }
   ],
   "source": [
    "# Random Forest\n",
    "\n",
    "rf_con = confusion_matrix(y_test, y_pre_r)\n",
    "sns.heatmap(rf_con.T, square=True, annot=True, fmt='d', cbar=False)\n",
    "plt.xlabel('true label')\n",
    "plt.ylabel('predicted label')\n",
    "plt.title(\"Random Forest\")"
   ]
  },
  {
   "cell_type": "code",
   "execution_count": 323,
   "metadata": {},
   "outputs": [
    {
     "data": {
      "text/plain": [
       "Text(0.5,1,'Gradient Boosting')"
      ]
     },
     "execution_count": 323,
     "metadata": {},
     "output_type": "execute_result"
    },
    {
     "data": {
      "image/png": "[encoded data removed]",
      "text/plain": [
       "<matplotlib.figure.Figure at 0x1a222437b8>"
      ]
     },
     "metadata": {},
     "output_type": "display_data"
    }
   ],
   "source": [
    "# Gradient Boosting\n",
    "\n",
    "gb_con = confusion_matrix(y_test, y_pre_g)\n",
    "sns.heatmap(gb_con.T, square=True, annot=True, fmt='d', cbar=False)\n",
    "plt.xlabel('true label')\n",
    "plt.ylabel('predicted label')\n",
    "plt.title(\"Gradient Boosting\")"
   ]
  },
  {
   "cell_type": "markdown",
   "metadata": {},
   "source": [
    "### Both Classification Tree and Gradient Boosting have good predictive ability for converters and non-converters, while Random Forest has good ability for predicting non-converters but bad ability for predicting converters."
   ]
  },
  {
   "cell_type": "code",
   "execution_count": 300,
   "metadata": {},
   "outputs": [],
   "source": [
    "clf_probas_ = clf_gini.fit(x_train, y_train).predict_proba(x_test)[:, 1]\n",
    "fpr_clf, tpr_clf, _ = roc_curve(y_test, clf_probas_)\n",
    "\n",
    "rf_probas_ = rf.fit(x_train, y_train.values.ravel()).predict_proba(x_test)[:, 1]\n",
    "fpr_rf, tpr_rf, _ = roc_curve(y_test, rf_probas_)\n",
    "\n",
    "gb_probas_ = gb.fit(x_train, y_train.values.ravel()).predict_proba(x_test)[:, 1]\n",
    "fpr_gb, tpr_gb, _ = roc_curve(y_test, gb_probas_)"
   ]
  },
  {
   "cell_type": "code",
   "execution_count": 301,
   "metadata": {},
   "outputs": [
    {
     "data": {
      "image/png": "[encoded data removed]",
      "text/plain": [
       "<matplotlib.figure.Figure at 0x1a21bf30b8>"
      ]
     },
     "metadata": {},
     "output_type": "display_data"
    }
   ],
   "source": [
    "plt.plot([0, 1], [0, 1], 'k--')\n",
    "plt.plot(fpr_clf, tpr_clf, label='Classification Tree')\n",
    "plt.plot(fpr_rf, tpr_rf, label='Random Forest')\n",
    "plt.plot(fpr_gb, tpr_gb, label='Gradient Boosting')\n",
    "plt.xlabel('False positive rate')\n",
    "plt.ylabel('True positive rate')\n",
    "plt.title('ROC curve')\n",
    "plt.legend(loc='best')\n",
    "plt.show()"
   ]
  },
  {
   "cell_type": "markdown",
   "metadata": {},
   "source": [
    "### The ROC curve plot shows the consistent result with accuracy scores, where Gradient Boosting has the highest prediction power and Random Forest has the lowest prediction power."
   ]
  },
  {
   "cell_type": "markdown",
   "metadata": {},
   "source": [
    "# End of Project"
   ]
  },
  {
   "cell_type": "code",
   "execution_count": null,
   "metadata": {
    "collapsed": true
   },
   "outputs": [],
   "source": []
  }
 ],
 "metadata": {
  "kernelspec": {
   "display_name": "Python 3",
   "language": "python",
   "name": "python3"
  }
 },
 "nbformat": 4,
 "nbformat_minor": 2
}
